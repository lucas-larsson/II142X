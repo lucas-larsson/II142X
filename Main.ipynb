{
  "cells": [
    {
      "cell_type": "markdown",
      "metadata": {
        "id": "view-in-github",
        "colab_type": "text"
      },
      "source": [
        "<a href=\"https://colab.research.google.com/github/lucas-larsson/II142X/blob/main/Main.ipynb\" target=\"_parent\"><img src=\"https://colab.research.google.com/assets/colab-badge.svg\" alt=\"Open In Colab\"/></a>"
      ]
    },
    {
      "metadata": {
        "id": "4e38114bb8c42595"
      },
      "cell_type": "markdown",
      "source": [
        "# II142X Degree project  VGG16 vs VGG32 a depper dive\n",
        "\n",
        "- Alex Lindberg : alex5@kth.se\n",
        "- Lucas Larsson : lulars@kth.se"
      ],
      "id": "4e38114bb8c42595"
    },
    {
      "cell_type": "code",
      "execution_count": 1,
      "id": "initial_id",
      "metadata": {
        "collapsed": true,
        "id": "initial_id",
        "outputId": "7ac552cb-c208-4bab-e296-fd2ea6d5c388",
        "colab": {
          "base_uri": "https://localhost:8080/"
        }
      },
      "outputs": [
        {
          "output_type": "stream",
          "name": "stdout",
          "text": [
            "Sun Apr 21 12:56:17 2024       \n",
            "+---------------------------------------------------------------------------------------+\n",
            "| NVIDIA-SMI 535.104.05             Driver Version: 535.104.05   CUDA Version: 12.2     |\n",
            "|-----------------------------------------+----------------------+----------------------+\n",
            "| GPU  Name                 Persistence-M | Bus-Id        Disp.A | Volatile Uncorr. ECC |\n",
            "| Fan  Temp   Perf          Pwr:Usage/Cap |         Memory-Usage | GPU-Util  Compute M. |\n",
            "|                                         |                      |               MIG M. |\n",
            "|=========================================+======================+======================|\n",
            "|   0  Tesla V100-SXM2-16GB           Off | 00000000:00:04.0 Off |                    0 |\n",
            "| N/A   33C    P0              25W / 300W |      0MiB / 16384MiB |      0%      Default |\n",
            "|                                         |                      |                  N/A |\n",
            "+-----------------------------------------+----------------------+----------------------+\n",
            "                                                                                         \n",
            "+---------------------------------------------------------------------------------------+\n",
            "| Processes:                                                                            |\n",
            "|  GPU   GI   CI        PID   Type   Process name                            GPU Memory |\n",
            "|        ID   ID                                                             Usage      |\n",
            "|=======================================================================================|\n",
            "|  No running processes found                                                           |\n",
            "+---------------------------------------------------------------------------------------+\n"
          ]
        }
      ],
      "source": [
        "# make sure we are running NVIDIA GPU V 100, specifically Tesla V100-SXM2-16GB\n",
        "!nvidia-smi"
      ]
    },
    {
      "metadata": {
        "id": "b54f941c9269dd5b"
      },
      "cell_type": "markdown",
      "source": [
        "## Imports and setup"
      ],
      "id": "b54f941c9269dd5b"
    },
    {
      "metadata": {
        "id": "7ec9733b8d064a3d",
        "outputId": "dd467988-ce97-462d-a35b-d6e3f8ad192e",
        "colab": {
          "base_uri": "https://localhost:8080/"
        }
      },
      "cell_type": "code",
      "outputs": [
        {
          "output_type": "stream",
          "name": "stdout",
          "text": [
            "Mounted at /content/drive\n"
          ]
        }
      ],
      "execution_count": 2,
      "source": [
        "import torch\n",
        "import torchvision\n",
        "import numpy as np\n",
        "import pandas as pd\n",
        "import matplotlib.pyplot as plt\n",
        "from sklearn.metrics import precision_score, recall_score, f1_score\n",
        "\n",
        "from google.colab import drive\n",
        "\n",
        "drive.mount('/content/drive')\n"
      ],
      "id": "7ec9733b8d064a3d"
    },
    {
      "cell_type": "code",
      "source": [
        "# Clone the git repos to accsess custom functions\n",
        "\n",
        "!git clone https://github.com/lucas-larsson/II142X.git\n",
        "%cd II142X/"
      ],
      "metadata": {
        "id": "v2DFICG5u2fY"
      },
      "id": "v2DFICG5u2fY",
      "execution_count": null,
      "outputs": []
    },
    {
      "metadata": {
        "id": "7e92f543f13c58fa"
      },
      "cell_type": "code",
      "outputs": [],
      "execution_count": 7,
      "source": [
        "# From local helper files\n",
        "\n",
        "from helpers.evaluation import set_all_seeds, set_deterministic, compute_confusion_matrix\n",
        "from helpers.training import train_model\n",
        "from helpers.plotting import plot_training_loss, plot_accuracy, show_examples, plot_confusion_matrix\n",
        "from helpers.data_importing import get_dataloaders_cifar10, UnNormalize\n",
        "from helpers.plotting import plot_metric"
      ],
      "id": "7e92f543f13c58fa"
    },
    {
      "metadata": {
        "id": "f8cc415e85771076"
      },
      "cell_type": "markdown",
      "source": [
        "## Settings and Dataset"
      ],
      "id": "f8cc415e85771076"
    },
    {
      "metadata": {
        "id": "7c219ed9cb461866"
      },
      "cell_type": "code",
      "outputs": [],
      "execution_count": null,
      "source": [
        "RANDOM_SEED = 123\n",
        "BATCH_SIZE = 256\n",
        "NUM_EPOCHS = 50\n",
        "set_all_seeds(RANDOM_SEED)\n",
        "DEVICE = torch.device('cuda') if torch.cuda.is_available() else torch.device('cpu')\n",
        "results_dir = '/content/drive/My Drive/Colab Notebooks/II142X-Results'"
      ],
      "id": "7c219ed9cb461866"
    },
    {
      "metadata": {
        "id": "814f0cb8e66583e2"
      },
      "cell_type": "markdown",
      "source": [],
      "id": "814f0cb8e66583e2"
    },
    {
      "metadata": {
        "id": "31d5fe55f7abad86"
      },
      "cell_type": "code",
      "outputs": [],
      "execution_count": null,
      "source": [
        "##########################\n",
        "### CIFAR-10 DATASET\n",
        "##########################\n",
        "\n",
        "##  VGG 16, resize to 64x64\n",
        "\n",
        "train_transforms_64 = torchvision.transforms.Compose([\n",
        "    torchvision.transforms.Resize((70, 70)),\n",
        "    torchvision.transforms.RandomCrop((64, 64)),\n",
        "    torchvision.transforms.ToTensor(),\n",
        "    torchvision.transforms.Normalize((0.5, 0.5, 0.5), (0.5, 0.5, 0.5))])\n",
        "\n",
        "test_transforms_64 = torchvision.transforms.Compose([\n",
        "    torchvision.transforms.Resize((70, 70)),\n",
        "    torchvision.transforms.CenterCrop((64, 64)),\n",
        "    torchvision.transforms.ToTensor(),\n",
        "    torchvision.transforms.Normalize((0.5, 0.5, 0.5), (0.5, 0.5, 0.5))])\n",
        "\n",
        "train_loader_64, valid_loader_64, test_loader_64 = get_dataloaders_cifar10(\n",
        "    batch_size=BATCH_SIZE,\n",
        "    validation_fraction=0.1,\n",
        "    train_transforms=train_transforms_64,\n",
        "    test_transforms=test_transforms_64,\n",
        "    num_workers=2)\n",
        "\n",
        "# Checking the dataset\n",
        "for images, labels in train_loader_64:\n",
        "    print('Image batch dimensions:', images.shape)\n",
        "    print('Image label dimensions:', labels.shape)\n",
        "    print('Class labels of 10 examples:', labels[:10])\n",
        "    break\n",
        "\n",
        "## VGG 23 resize to 128x128\n",
        "\n",
        "train_transforms_128 = torchvision.transforms.Compose([\n",
        "    torchvision.transforms.Resize((140, 140)),\n",
        "    torchvision.transforms.RandomCrop((128, 128)),\n",
        "    torchvision.transforms.ToTensor(),\n",
        "    torchvision.transforms.Normalize((0.5, 0.5, 0.5), (0.5, 0.5, 0.5))])\n",
        "\n",
        "test_transforms_128 = torchvision.transforms.Compose([\n",
        "    torchvision.transforms.Resize((140, 140)),\n",
        "    torchvision.transforms.CenterCrop((128, 128)),\n",
        "    torchvision.transforms.ToTensor(),\n",
        "    torchvision.transforms.Normalize((0.5, 0.5, 0.5), (0.5, 0.5, 0.5))])\n",
        "\n",
        "train_loader_128, valid_loader_128, test_loader_128 = get_dataloaders_cifar10(\n",
        "    batch_size=BATCH_SIZE,\n",
        "    validation_fraction=0.1,\n",
        "    train_transforms=train_transforms_128,\n",
        "    test_transforms=test_transforms_128,\n",
        "    num_workers=2)\n",
        "\n",
        "# Checking the dataset\n",
        "for images, labels in train_loader_128:\n",
        "    print('Image batch dimensions:', images.shape)\n",
        "    print('Image label dimensions:', labels.shape)\n",
        "    print('Class labels of 10 examples:', labels[:10])\n",
        "    break\n"
      ],
      "id": "31d5fe55f7abad86"
    },
    {
      "metadata": {
        "id": "498a589a0cce937a"
      },
      "cell_type": "markdown",
      "source": [
        "## Training and Testing"
      ],
      "id": "498a589a0cce937a"
    },
    {
      "metadata": {
        "id": "b078b0b357114a39"
      },
      "cell_type": "code",
      "outputs": [],
      "execution_count": null,
      "source": [
        "## VGG 16\n",
        "from models.VGG_16 import VGG16\n",
        "\n",
        "model_16 = VGG16(num_classes=10)\n",
        "model_16 = model_16.to(DEVICE)\n",
        "\n",
        "optimizer = torch.optim.SGD(model_16.parameters(), momentum=0.9, lr=0.01)\n",
        "scheduler = torch.optim.lr_scheduler.ReduceLROnPlateau(optimizer,\n",
        "                                                       factor=0.1,\n",
        "                                                       mode='max',\n",
        "                                                       verbose=True)\n",
        "minibatch_loss_list_16, train_acc_list_16, valid_acc_list_16, valid_precision_list_16, valid_recall_list_16, valid_f1_list_16 = train_model(\n",
        "    model=model_16,\n",
        "    num_epochs=NUM_EPOCHS,\n",
        "    train_loader=train_loader_64,\n",
        "    valid_loader=valid_loader_64,\n",
        "    test_loader=test_loader_64,\n",
        "    optimizer=optimizer,\n",
        "    device=DEVICE,\n",
        "    scheduler=scheduler,\n",
        "    scheduler_on='valid_acc',\n",
        "    logging_interval=100)"
      ],
      "id": "b078b0b357114a39"
    },
    {
      "metadata": {
        "id": "26134c1da324293c"
      },
      "cell_type": "code",
      "outputs": [],
      "execution_count": null,
      "source": [
        "from models.VGG_23 import VGG23\n",
        "\n",
        "model_23 = VGG23(num_classes=10)\n",
        "model_23 = model_23.to(DEVICE)\n",
        "\n",
        "optimizer = torch.optim.SGD(model_23.parameters(), momentum=0.9, lr=0.01)\n",
        "scheduler = torch.optim.lr_scheduler.ReduceLROnPlateau(optimizer,\n",
        "                                                       factor=0.1,\n",
        "                                                       mode='max',\n",
        "                                                       verbose=True)\n",
        "\n",
        "minibatch_loss_list_23, train_acc_list_23, valid_acc_list_23, valid_precision_list_23, valid_recall_list_23, valid_f1_list_23 = train_model(\n",
        "    model=model_23,\n",
        "    num_epochs=NUM_EPOCHS,\n",
        "    train_loader=train_loader_128,\n",
        "    valid_loader=valid_loader_128,\n",
        "    test_loader=test_loader_128,\n",
        "    optimizer=optimizer,\n",
        "    device=DEVICE,\n",
        "    scheduler=scheduler,\n",
        "    scheduler_on='valid_acc',\n",
        "    logging_interval=100)"
      ],
      "id": "26134c1da324293c"
    },
    {
      "metadata": {
        "id": "19ca8ba0f3102ccf"
      },
      "cell_type": "markdown",
      "source": [],
      "id": "19ca8ba0f3102ccf"
    },
    {
      "metadata": {
        "id": "a9113377b3ebe894"
      },
      "cell_type": "markdown",
      "source": [
        "## Visualizing the results"
      ],
      "id": "a9113377b3ebe894"
    },
    {
      "metadata": {
        "id": "d35679bbaf4fd7d6"
      },
      "cell_type": "code",
      "outputs": [],
      "execution_count": null,
      "source": [
        "## Plotting the results\n",
        "\n",
        "plot_metric(valid_precision_list_16, valid_precision_list_23, 'Precision', results_dir)\n",
        "plot_metric(valid_recall_list_16, valid_recall_list_23, 'Recall', results_dir)\n",
        "plot_metric(valid_f1_list_16 , valid_f1_list_23, 'F1 score', results_dir)\n",
        "plot_accuracy(train_acc_list_16, valid_acc_list_16, train_acc_list_23, valid_acc_list_23, results_dir)\n",
        "plot_training_loss(minibatch_loss_list_16, minibatch_loss_list_23, NUM_EPOCHS, len(train_loader_128), results_dir, 100)\n"
      ],
      "id": "d35679bbaf4fd7d6"
    },
    {
      "metadata": {
        "id": "61cb2f030371ecee"
      },
      "cell_type": "code",
      "outputs": [],
      "execution_count": null,
      "source": [
        "## Confusion matrix and examples VGG 16\n",
        "model_16.cpu()\n",
        "unnormalizer = UnNormalize((0.5, 0.5, 0.5), (0.5, 0.5, 0.5))\n",
        "class_dict = {0: 'airplane',\n",
        "              1: 'automobile',\n",
        "              2: 'bird',\n",
        "              3: 'cat',\n",
        "              4: 'deer',\n",
        "              5: 'dog',\n",
        "              6: 'frog',\n",
        "              7: 'horse',\n",
        "              8: 'ship',\n",
        "              9: 'truck'}\n",
        "\n",
        "show_examples(model=model_16, data_loader=test_loader_64, unnormalizer=unnormalizer, class_dict=class_dict)\n",
        "\n",
        "\n",
        "mat = compute_confusion_matrix(model=model_16, data_loader=test_loader_64, device=torch.device('cpu'))\n",
        "plot_confusion_matrix(mat, class_names=class_dict.values())\n",
        "\n",
        "\n",
        "## this is in testing phase, have not been able to run it yet since i am running on a local machine\n",
        "\n",
        "y_true, y_pred = compute_confusion_matrix(model_16, test_loader_64, torch.device('cpu'))\n",
        "precision = precision_score(y_true, y_pred, average='macro')\n",
        "recall = recall_score(y_true, y_pred, average='macro')\n",
        "f1 = f1_score(y_true, y_pred, average='macro')\n",
        "print(f'Precision: {precision:.4f}, Recall: {recall:.4f}, F1: {f1:.4f}')"
      ],
      "id": "61cb2f030371ecee"
    },
    {
      "metadata": {
        "id": "e7307aabd1f75370"
      },
      "cell_type": "code",
      "outputs": [],
      "execution_count": null,
      "source": [
        "## Confusion matrix and examples VGG 23\n",
        "model_23.cpu()\n",
        "unnormalizer = UnNormalize((0.5, 0.5, 0.5), (0.5, 0.5, 0.5))\n",
        "class_dict = {0: 'airplane',\n",
        "              1: 'automobile',\n",
        "              2: 'bird',\n",
        "              3: 'cat',\n",
        "              4: 'deer',\n",
        "              5: 'dog',\n",
        "              6: 'frog',\n",
        "              7: 'horse',\n",
        "              8: 'ship',\n",
        "              9: 'truck'}\n",
        "\n",
        "show_examples(model=model_23, data_loader=test_loader_128, unnormalizer=unnormalizer, class_dict=class_dict)\n",
        "\n",
        "mat = compute_confusion_matrix(model=model_23, data_loader=test_loader_128, device=torch.device('cpu'))\n",
        "plot_confusion_matrix(mat, class_names=class_dict.values())\n",
        "\n",
        "## this is in testing phase, have not been able to run it yet since i am running on a local machine\n",
        "\n",
        "y_true, y_pred = compute_confusion_matrix(model_23, test_loader_128, torch.device('cpu'))\n",
        "precision = precision_score(y_true, y_pred, average='macro')\n",
        "recall = recall_score(y_true, y_pred, average='macro')\n",
        "f1 = f1_score(y_true, y_pred, average='macro')\n",
        "print(f'Precision: {precision:.4f}, Recall: {recall:.4f}, F1: {f1:.4f}')"
      ],
      "id": "e7307aabd1f75370"
    },
    {
      "metadata": {
        "id": "db428dd47bb3bb5a"
      },
      "cell_type": "markdown",
      "source": [
        "## Saving the results"
      ],
      "id": "db428dd47bb3bb5a"
    },
    {
      "metadata": {
        "id": "afe9d438f4432233"
      },
      "cell_type": "code",
      "outputs": [],
      "execution_count": null,
      "source": [
        "results = pd.DataFrame({'VGG16': [valid_precision_list_16[-1], valid_recall_list_16[-1], valid_f1_list_16[-1]],\n",
        "                        'VGG23': [valid_precision_list_23[-1], valid_recall_list_23[-1], valid_f1_list_23[-1]]},\n",
        "                       index=['Precision', 'Recall', 'F1'])\n",
        "results.to_csv(results_dir + '/final_results.csv')"
      ],
      "id": "afe9d438f4432233"
    }
  ],
  "metadata": {
    "kernelspec": {
      "display_name": "Python 3",
      "name": "python3"
    },
    "language_info": {
      "codemirror_mode": {
        "name": "ipython",
        "version": 2
      },
      "file_extension": ".py",
      "mimetype": "text/x-python",
      "name": "python",
      "nbconvert_exporter": "python",
      "pygments_lexer": "ipython2",
      "version": "2.7.6"
    },
    "colab": {
      "provenance": [],
      "gpuType": "V100",
      "include_colab_link": true
    },
    "accelerator": "GPU"
  },
  "nbformat": 4,
  "nbformat_minor": 5
}